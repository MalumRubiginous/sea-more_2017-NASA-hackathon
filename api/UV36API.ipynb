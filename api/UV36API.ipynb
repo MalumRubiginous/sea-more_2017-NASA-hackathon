{
 "cells": [
  {
   "cell_type": "code",
   "execution_count": 1,
   "metadata": {
    "collapsed": true
   },
   "outputs": [],
   "source": [
    "f = open(\"../../data/beachdict.json\")\n",
    "fs = f.read()\n",
    "import json\n",
    "beachobj = json.loads(fs)\n",
    "\n",
    "fuv = open(\"../../data/max_uv.json\").read()\n",
    "uvobj = json.loads(fuv)"
   ]
  },
  {
   "cell_type": "code",
   "execution_count": 2,
   "metadata": {
    "collapsed": true
   },
   "outputs": [],
   "source": [
    "from math import sin \n",
    "from math import cos\n",
    "\n",
    "def sunlocation( month, day, hour,latitude,longitude):\n",
    "\n",
    "    #day from winter solstice\n",
    "\n",
    "    days = month * 30 + day +10\n",
    "    \n",
    "    hr = 12 + 8 * cos((latitude+23.404*cos(days/365))*3.1415926/180.0)  \n",
    "\n",
    "    phi =(90- latitude) / 180.0 *3.1415926 \n",
    "    \n",
    "    altitude_max = phi + 23.403 * cos(days/365.05 )*3.1415927 /180\n",
    "    \n",
    "    \n",
    "    sideralTime = phi *(280.16 + 360.985235 * 2) - hr\n",
    "    \n",
    "    mean_anomaly= 360.0 / 365.242191 * day + 279.403303 -282.768422\n",
    "   \n",
    "    \n",
    "\n",
    "    #altitude = sin(phi) * sin(dec) + cos(phi) * cos(dec) * cos(H)) \n",
    "\n",
    "    angle = (altitude_max *cos((hr/2 -hour)/hr))*3.1415926/180.0 \n",
    "    \n",
    "    return angle"
   ]
  },
  {
   "cell_type": "code",
   "execution_count": null,
   "metadata": {
    "collapsed": true
   },
   "outputs": [],
   "source": [
    "\n",
    "\n",
    "\n",
    "from math import sin \n",
    "from math import cos\n",
    "\n",
    "def uv_dose( uv_intensity, month, day, hour, latitude, longitude):\n",
    "\n",
    "\n",
    "    angle = sunlocation( month, day, hour,latitude,longitude)\n",
    "    angle_max = sunlocation( month, day, 12,latitude, longitude) \n",
    "    uvdose = uv_intensity * sin(angle)/sin(angle_max) \n",
    "\n",
    "    return uvdose \n"
   ]
  },
  {
   "cell_type": "code",
   "execution_count": null,
   "metadata": {},
   "outputs": [
    {
     "name": "stderr",
     "output_type": "stream",
     "text": [
      " * Running on http://0.0.0.0:5002/ (Press CTRL+C to quit)\n",
      "127.0.0.1 - - [29/Apr/2017 18:32:33] \"GET /uv?beach=%E6%B2%99%E5%B4%99%E6%B5%B7%E6%B0%B4%E6%B5%B4%E5%A0%B4&date=2017-5-5-5 HTTP/1.0\" 404 -\n",
      "[2017-04-29 18:33:29,175] ERROR in app: Exception on /uvnow [GET]\n",
      "Traceback (most recent call last):\n",
      "  File \"/usr/local/lib/python2.7/dist-packages/flask/app.py\", line 1982, in wsgi_app\n",
      "    response = self.full_dispatch_request()\n",
      "  File \"/usr/local/lib/python2.7/dist-packages/flask/app.py\", line 1614, in full_dispatch_request\n",
      "    rv = self.handle_user_exception(e)\n",
      "  File \"/usr/local/lib/python2.7/dist-packages/flask/app.py\", line 1517, in handle_user_exception\n",
      "    reraise(exc_type, exc_value, tb)\n",
      "  File \"/usr/local/lib/python2.7/dist-packages/flask/app.py\", line 1612, in full_dispatch_request\n",
      "    rv = self.dispatch_request()\n",
      "  File \"/usr/local/lib/python2.7/dist-packages/flask/app.py\", line 1598, in dispatch_request\n",
      "    return self.view_functions[rule.endpoint](**req.view_args)\n",
      "  File \"<ipython-input-4-6bab17fe9a50>\", line 10, in uv\n",
      "    month, day, hour = [float(i) for i in date.split(\"-\")]\n",
      "ValueError: too many values to unpack\n",
      "127.0.0.1 - - [29/Apr/2017 18:33:29] \"GET /uvnow?beach=%E6%B2%99%E5%B4%99%E6%B5%B7%E6%B0%B4%E6%B5%B4%E5%A0%B4&date=2017-5-5-5 HTTP/1.0\" 500 -\n",
      "127.0.0.1 - - [29/Apr/2017 18:33:51] \"GET /uvnow?beach=%E6%B2%99%E5%B4%99%E6%B5%B7%E6%B0%B4%E6%B5%B4%E5%A0%B4&date=5-5-5 HTTP/1.0\" 200 -\n"
     ]
    },
    {
     "name": "stdout",
     "output_type": "stream",
     "text": [
      "5.0 5.0 5.0\n",
      "沙崙海水浴場\n"
     ]
    }
   ],
   "source": [
    "from flask import request\n",
    "from flask import Flask\n",
    "app = Flask(__name__)\n",
    "\n",
    "@app.route(\"/uvnow\")\n",
    "def uv():\n",
    "    uv_intensity = request.args.get('uv_intensity')\n",
    "    date = request.args.get('date')\n",
    "    \n",
    "    month, day, hour = [float(i) for i in date.split(\"-\")]\n",
    "    print month, day,hour\n",
    "    \n",
    "    \n",
    "    \n",
    "    beach = request.args.get('beach')\n",
    "    \n",
    "    print beach\n",
    "    latitude, longitude = beachobj[beach]['ll'].split(\",\")\n",
    "    \n",
    "    latitude = float(latitude) \n",
    "    longitude = float(longitude)\n",
    "    \n",
    "    \n",
    "    \n",
    "    city = beachobj[beach]['city']\n",
    "\n",
    "\n",
    "    uv_intensity = float(uvobj[city])\n",
    "    \n",
    "    uv = uv_dose(uv_intensity ,month , day, hour, latitude, longitude)\n",
    "    \n",
    "    \n",
    "    return json.dumps(uv)\n",
    "\n",
    "if __name__ == \"__main__\":\n",
    "    app.run(host='0.0.0.0', port=5003)"
   ]
  },
  {
   "cell_type": "code",
   "execution_count": null,
   "metadata": {
    "collapsed": true
   },
   "outputs": [],
   "source": []
  },
  {
   "cell_type": "code",
   "execution_count": 8,
   "metadata": {
    "collapsed": true
   },
   "outputs": [],
   "source": [
    "import time\n",
    "from datetime import datetime\n",
    "from dateutil.relativedelta import relativedelta\n",
    "from dateutil.parser import parse\n",
    "\n",
    "# def datetime_from_utc_to_local(utc_datetime):\n",
    "#    now_timestamp = time.time()\n",
    "#    offset = datetime.fromtimestamp(now_timestamp) - datetime.utcfromtimestamp(now_timestamp)\n",
    "#    o = utc_datetime + offset\n",
    "\n",
    "\n",
    "#    return o.replace(microsecond=0)"
   ]
  },
  {
   "cell_type": "code",
   "execution_count": null,
   "metadata": {
    "collapsed": true
   },
   "outputs": [],
   "source": []
  },
  {
   "cell_type": "code",
   "execution_count": 12,
   "metadata": {},
   "outputs": [
    {
     "name": "stdout",
     "output_type": "stream",
     "text": [
      "4 29 18\n",
      "2017-04-29 18:51:39\n",
      "4 29 21\n",
      "2017-04-29 21:51:39\n",
      "4 30 0\n",
      "2017-04-30 00:51:39\n",
      "4 30 3\n",
      "2017-04-30 03:51:39\n",
      "4 30 6\n",
      "2017-04-30 06:51:39\n",
      "4 30 9\n",
      "2017-04-30 09:51:39\n",
      "4 30 12\n",
      "2017-04-30 12:51:39\n",
      "4 30 15\n",
      "2017-04-30 15:51:39\n",
      "4 30 18\n",
      "2017-04-30 18:51:39\n",
      "4 30 21\n",
      "2017-04-30 21:51:39\n",
      "5 1 0\n",
      "2017-05-01 00:51:39\n",
      "5 1 3\n",
      "2017-05-01 03:51:39\n"
     ]
    }
   ],
   "source": [
    "from datetime import timedelta\n",
    "from datetime import datetime\n",
    "dt = datetime.now()\n",
    "\n",
    "\n",
    "for i in range(0, 35, 3):\n",
    "    dt_plus_12 = dt + timedelta(hours=i)\n",
    "    print  dt_plus_12.month,dt_plus_12.day, dt_plus_12.hour\n",
    "    print dt_plus_12.replace(microsecond=0)"
   ]
  },
  {
   "cell_type": "code",
   "execution_count": 3,
   "metadata": {},
   "outputs": [
    {
     "data": {
      "text/plain": [
       "datetime.datetime(2017, 4, 30, 6, 41, 27, 103541)"
      ]
     },
     "execution_count": 3,
     "metadata": {},
     "output_type": "execute_result"
    }
   ],
   "source": []
  },
  {
   "cell_type": "code",
   "execution_count": null,
   "metadata": {
    "collapsed": true
   },
   "outputs": [],
   "source": []
  }
 ],
 "metadata": {
  "kernelspec": {
   "display_name": "Python 2",
   "language": "python",
   "name": "python2"
  },
  "language_info": {
   "codemirror_mode": {
    "name": "ipython",
    "version": 2
   },
   "file_extension": ".py",
   "mimetype": "text/x-python",
   "name": "python",
   "nbconvert_exporter": "python",
   "pygments_lexer": "ipython2",
   "version": "2.7.9"
  }
 },
 "nbformat": 4,
 "nbformat_minor": 2
}
